{
 "cells": [
  {
   "cell_type": "code",
   "execution_count": 35,
   "metadata": {
    "scrolled": true
   },
   "outputs": [
    {
     "name": "stdout",
     "output_type": "stream",
     "text": [
      "{\"status\":\"ok\",\"articles\":[{\"summary\":\"The Mega city, Lahore is covered in thick Smog & Air Pollution - Drastic Measures Required. Air Purification measures required, Pollution gets on government's nerve and people are getting agitated, causing severe lung problems could result in deaths. It's like Lahore is turned into a gas chamber, a toxic cloud... Lahore Covered In Thick Smog & Air Pollution - Measures Required\",\"country\":\"PK\",\"author\":\"AsianLion\",\"link\":\"https://defence.pk/pdf/threads/lahore-covered-in-thick-smog-air-pollution-measures-required.459069/\",\"language\":\"en\",\"media\":null,\"title\":\"Lahore Covered In Thick Smog & Air Pollution - Measures Required\",\"media_content\":null,\"clean_url\":\"defence.pk\",\"rights\":\"defence.pk\",\"rank\":\"39513\",\"topic\":\"politics\",\"published_date\":\"2020-11-12 10:30:57\",\"_id\":\"4dc71750d4fc94d7f44dc72343f0cc33\"},{\"summary\":\"Lahore is choking under the blanket of thick smog. Here's how you can stay safe Let's all pray for rain and for everyone to stay safe! November 03, 2016, 1:09 pm Winter's here... Lahore is choking under the blanket of thick smog. Here's how you can stay safe\",\"country\":\"PK\",\"author\":\"Zibago\",\"link\":\"https://defence.pk/pdf/threads/lahore-is-choking-under-the-blanket-of-thick-smog-heres-how-you-can-stay-safe.459268/\",\"language\":\"en\",\"media\":null,\"title\":\"Lahore is choking under the blanket of thick smog. Here's how you can stay safe\",\"media_content\":null,\"clean_url\":\"defence.pk\",\"rights\":\"defence.pk\",\"rank\":\"39513\",\"topic\":\"politics\",\"published_date\":\"2020-11-12 10:26:23\",\"_id\":\"f35990bb8901ecdf20aed5a6759a26e3\"},{\"summary\":\"http://www.riazhaq.com/2017/11/thick-smog-in-delhi-and-lahore-is-india.html Thick smog enveloping Pakistan's Punjab province has seriously disrupted road and air traffic and created significant health emergency for the people, according to... Thick Smog in Delhi and Lahore: Is India Crop Burning to Blame?\",\"country\":\"PK\",\"author\":\"RiazHaq\",\"link\":\"https://defence.pk/pdf/threads/thick-smog-in-delhi-and-lahore-is-india-crop-burning-to-blame.527714/\",\"language\":\"en\",\"media\":null,\"title\":\"Thick Smog in Delhi and Lahore: Is India Crop Burning to Blame?\",\"media_content\":null,\"clean_url\":\"defence.pk\",\"rights\":\"defence.pk\",\"rank\":\"39513\",\"topic\":\"politics\",\"published_date\":\"2020-11-12 10:25:33\",\"_id\":\"b6e3f79482db18d46423864152fce435\"},{\"summary\":\"LAHORE (Dunya News) \\u2013 Smog has once again severely hit the provincial capital, Lahore, with Air Quality Index reaching 455, while threshold for hazardous level of air quality is 300. According to AQI, Lahore has recorded an Air Quality Index of 455. Punjab Assembly at 731, Upper Mall at 647, Defence (DHA) at 401... Severe smog chokes Lahore\",\"country\":\"PK\",\"author\":\"ASKardar\",\"link\":\"https://defence.pk/pdf/threads/severe-smog-chokes-lahore.642160/\",\"language\":\"en\",\"media\":null,\"title\":\"Severe smog chokes Lahore\",\"media_content\":null,\"clean_url\":\"defence.pk\",\"rights\":\"defence.pk\",\"rank\":\"39513\",\"topic\":\"politics\",\"published_date\":\"2020-11-12 10:23:26\",\"_id\":\"ea1c643a072a9f1b64fd3acc6c202142\"},{\"summary\":\"This is a list of AAIB Record-only UAS investigations that were reviewed during August and September 2020.\",\"country\":\"NA\",\"author\":null,\"link\":\"https://www.gov.uk/government/publications/aaib-record-only-uas-investigations-reviewed-august-september-2020\",\"language\":\"en\",\"media\":null,\"title\":\"AAIB Record-only UAS investigations reviewed: August - September 2020\",\"media_content\":null,\"clean_url\":\"gov.uk\",\"rights\":\"gov.uk\",\"rank\":\"20545\",\"topic\":\"politics\",\"published_date\":\"2020-11-12 10:18:57\",\"_id\":\"acad1d151df7c7fa704256690cdf61f1\"}],\"user_input\":{\"lang\":\"en\",\"country\":null,\"topic\":\"politics\",\"media\":\"True\"}}\n",
      "\n"
     ]
    }
   ],
   "source": [
    "import requests, json\n",
    "\n",
    "url = \"https://newscatcher.p.rapidapi.com/v1/latest_headlines\"\n",
    "\n",
    "querystring = {\"topic\":\"politics\", \"lang\":\"en\", \"media\":\"True\"}\n",
    "\n",
    "headers = {\n",
    "    'x-rapidapi-key': \"afb0cf49e0msh5077ac3e541e972p14b5bfjsn529b4f19074c\",\n",
    "    'x-rapidapi-host': \"newscatcher.p.rapidapi.com\"\n",
    "}\n",
    "\n",
    "response = requests.request(\"GET\", url, headers=headers, params=querystring)\n",
    "\n",
    "print(response.text)"
   ]
  },
  {
   "cell_type": "code",
   "execution_count": 38,
   "metadata": {},
   "outputs": [
    {
     "data": {
      "text/plain": [
       "{'status': 'ok',\n",
       " 'articles': [{'summary': \"The Mega city, Lahore is covered in thick Smog & Air Pollution - Drastic Measures Required. Air Purification measures required, Pollution gets on government's nerve and people are getting agitated, causing severe lung problems could result in deaths. It's like Lahore is turned into a gas chamber, a toxic cloud... Lahore Covered In Thick Smog & Air Pollution - Measures Required\",\n",
       "   'country': 'PK',\n",
       "   'author': 'AsianLion',\n",
       "   'link': 'https://defence.pk/pdf/threads/lahore-covered-in-thick-smog-air-pollution-measures-required.459069/',\n",
       "   'language': 'en',\n",
       "   'media': None,\n",
       "   'title': 'Lahore Covered In Thick Smog & Air Pollution - Measures Required',\n",
       "   'media_content': None,\n",
       "   'clean_url': 'defence.pk',\n",
       "   'rights': 'defence.pk',\n",
       "   'rank': '39513',\n",
       "   'topic': 'politics',\n",
       "   'published_date': '2020-11-12 10:30:57',\n",
       "   '_id': '4dc71750d4fc94d7f44dc72343f0cc33'},\n",
       "  {'summary': \"Lahore is choking under the blanket of thick smog. Here's how you can stay safe Let's all pray for rain and for everyone to stay safe! November 03, 2016, 1:09 pm Winter's here... Lahore is choking under the blanket of thick smog. Here's how you can stay safe\",\n",
       "   'country': 'PK',\n",
       "   'author': 'Zibago',\n",
       "   'link': 'https://defence.pk/pdf/threads/lahore-is-choking-under-the-blanket-of-thick-smog-heres-how-you-can-stay-safe.459268/',\n",
       "   'language': 'en',\n",
       "   'media': None,\n",
       "   'title': \"Lahore is choking under the blanket of thick smog. Here's how you can stay safe\",\n",
       "   'media_content': None,\n",
       "   'clean_url': 'defence.pk',\n",
       "   'rights': 'defence.pk',\n",
       "   'rank': '39513',\n",
       "   'topic': 'politics',\n",
       "   'published_date': '2020-11-12 10:26:23',\n",
       "   '_id': 'f35990bb8901ecdf20aed5a6759a26e3'},\n",
       "  {'summary': \"http://www.riazhaq.com/2017/11/thick-smog-in-delhi-and-lahore-is-india.html Thick smog enveloping Pakistan's Punjab province has seriously disrupted road and air traffic and created significant health emergency for the people, according to... Thick Smog in Delhi and Lahore: Is India Crop Burning to Blame?\",\n",
       "   'country': 'PK',\n",
       "   'author': 'RiazHaq',\n",
       "   'link': 'https://defence.pk/pdf/threads/thick-smog-in-delhi-and-lahore-is-india-crop-burning-to-blame.527714/',\n",
       "   'language': 'en',\n",
       "   'media': None,\n",
       "   'title': 'Thick Smog in Delhi and Lahore: Is India Crop Burning to Blame?',\n",
       "   'media_content': None,\n",
       "   'clean_url': 'defence.pk',\n",
       "   'rights': 'defence.pk',\n",
       "   'rank': '39513',\n",
       "   'topic': 'politics',\n",
       "   'published_date': '2020-11-12 10:25:33',\n",
       "   '_id': 'b6e3f79482db18d46423864152fce435'},\n",
       "  {'summary': 'LAHORE (Dunya News) – Smog has once again severely hit the provincial capital, Lahore, with Air Quality Index reaching 455, while threshold for hazardous level of air quality is 300. According to AQI, Lahore has recorded an Air Quality Index of 455. Punjab Assembly at 731, Upper Mall at 647, Defence (DHA) at 401... Severe smog chokes Lahore',\n",
       "   'country': 'PK',\n",
       "   'author': 'ASKardar',\n",
       "   'link': 'https://defence.pk/pdf/threads/severe-smog-chokes-lahore.642160/',\n",
       "   'language': 'en',\n",
       "   'media': None,\n",
       "   'title': 'Severe smog chokes Lahore',\n",
       "   'media_content': None,\n",
       "   'clean_url': 'defence.pk',\n",
       "   'rights': 'defence.pk',\n",
       "   'rank': '39513',\n",
       "   'topic': 'politics',\n",
       "   'published_date': '2020-11-12 10:23:26',\n",
       "   '_id': 'ea1c643a072a9f1b64fd3acc6c202142'},\n",
       "  {'summary': 'This is a list of AAIB Record-only UAS investigations that were reviewed during August and September 2020.',\n",
       "   'country': 'NA',\n",
       "   'author': None,\n",
       "   'link': 'https://www.gov.uk/government/publications/aaib-record-only-uas-investigations-reviewed-august-september-2020',\n",
       "   'language': 'en',\n",
       "   'media': None,\n",
       "   'title': 'AAIB Record-only UAS investigations reviewed: August - September 2020',\n",
       "   'media_content': None,\n",
       "   'clean_url': 'gov.uk',\n",
       "   'rights': 'gov.uk',\n",
       "   'rank': '20545',\n",
       "   'topic': 'politics',\n",
       "   'published_date': '2020-11-12 10:18:57',\n",
       "   '_id': 'acad1d151df7c7fa704256690cdf61f1'}],\n",
       " 'user_input': {'lang': 'en',\n",
       "  'country': None,\n",
       "  'topic': 'politics',\n",
       "  'media': 'True'}}"
      ]
     },
     "execution_count": 38,
     "metadata": {},
     "output_type": "execute_result"
    }
   ],
   "source": [
    "import json \n",
    "\n",
    "json_object = json.loads(response.text)\n",
    "\n",
    "#json_object_bk = json.loads(response.text)\n",
    "\n",
    "json_object"
   ]
  },
  {
   "cell_type": "code",
   "execution_count": 43,
   "metadata": {},
   "outputs": [
    {
     "name": "stdout",
     "output_type": "stream",
     "text": [
      "2020-11-12 10:30:57 defence.pk: Lahore Covered In Thick Smog & Air Pollution - Measures Required\n",
      "2020-11-12 10:26:23 defence.pk: Lahore is choking under the blanket of thick smog. Here's how you can stay safe\n",
      "2020-11-12 10:25:33 defence.pk: Thick Smog in Delhi and Lahore: Is India Crop Burning to Blame?\n",
      "2020-11-12 10:23:26 defence.pk: Severe smog chokes Lahore\n",
      "2020-11-12 10:18:57 gov.uk: AAIB Record-only UAS investigations reviewed: August - September 2020\n"
     ]
    }
   ],
   "source": [
    "for article in json_object['articles']:\n",
    "    \n",
    "    print(article['published_date'] + ' ' + article['clean_url'] + ': ' + article['title'])"
   ]
  },
  {
   "cell_type": "code",
   "execution_count": 45,
   "metadata": {},
   "outputs": [
    {
     "data": {
      "text/plain": [
       "{'status': 'ok',\n",
       " 'articles': [{'summary': \"The Mega city, Lahore is covered in thick Smog & Air Pollution - Drastic Measures Required. Air Purification measures required, Pollution gets on government's nerve and people are getting agitated, causing severe lung problems could result in deaths. It's like Lahore is turned into a gas chamber, a toxic cloud... Lahore Covered In Thick Smog & Air Pollution - Measures Required\",\n",
       "   'country': 'PK',\n",
       "   'author': 'AsianLion',\n",
       "   'link': 'https://defence.pk/pdf/threads/lahore-covered-in-thick-smog-air-pollution-measures-required.459069/',\n",
       "   'language': 'en',\n",
       "   'media': None,\n",
       "   'title': 'Lahore Covered In Thick Smog & Air Pollution - Measures Required',\n",
       "   'media_content': None,\n",
       "   'clean_url': 'defence.pk',\n",
       "   'rights': 'defence.pk',\n",
       "   'rank': '39513',\n",
       "   'topic': 'politics',\n",
       "   'published_date': '2020-11-12 10:30:57',\n",
       "   '_id': '4dc71750d4fc94d7f44dc72343f0cc33'},\n",
       "  {'summary': \"Lahore is choking under the blanket of thick smog. Here's how you can stay safe Let's all pray for rain and for everyone to stay safe! November 03, 2016, 1:09 pm Winter's here... Lahore is choking under the blanket of thick smog. Here's how you can stay safe\",\n",
       "   'country': 'PK',\n",
       "   'author': 'Zibago',\n",
       "   'link': 'https://defence.pk/pdf/threads/lahore-is-choking-under-the-blanket-of-thick-smog-heres-how-you-can-stay-safe.459268/',\n",
       "   'language': 'en',\n",
       "   'media': None,\n",
       "   'title': \"Lahore is choking under the blanket of thick smog. Here's how you can stay safe\",\n",
       "   'media_content': None,\n",
       "   'clean_url': 'defence.pk',\n",
       "   'rights': 'defence.pk',\n",
       "   'rank': '39513',\n",
       "   'topic': 'politics',\n",
       "   'published_date': '2020-11-12 10:26:23',\n",
       "   '_id': 'f35990bb8901ecdf20aed5a6759a26e3'},\n",
       "  {'summary': \"http://www.riazhaq.com/2017/11/thick-smog-in-delhi-and-lahore-is-india.html Thick smog enveloping Pakistan's Punjab province has seriously disrupted road and air traffic and created significant health emergency for the people, according to... Thick Smog in Delhi and Lahore: Is India Crop Burning to Blame?\",\n",
       "   'country': 'PK',\n",
       "   'author': 'RiazHaq',\n",
       "   'link': 'https://defence.pk/pdf/threads/thick-smog-in-delhi-and-lahore-is-india-crop-burning-to-blame.527714/',\n",
       "   'language': 'en',\n",
       "   'media': None,\n",
       "   'title': 'Thick Smog in Delhi and Lahore: Is India Crop Burning to Blame?',\n",
       "   'media_content': None,\n",
       "   'clean_url': 'defence.pk',\n",
       "   'rights': 'defence.pk',\n",
       "   'rank': '39513',\n",
       "   'topic': 'politics',\n",
       "   'published_date': '2020-11-12 10:25:33',\n",
       "   '_id': 'b6e3f79482db18d46423864152fce435'},\n",
       "  {'summary': 'LAHORE (Dunya News) – Smog has once again severely hit the provincial capital, Lahore, with Air Quality Index reaching 455, while threshold for hazardous level of air quality is 300. According to AQI, Lahore has recorded an Air Quality Index of 455. Punjab Assembly at 731, Upper Mall at 647, Defence (DHA) at 401... Severe smog chokes Lahore',\n",
       "   'country': 'PK',\n",
       "   'author': 'ASKardar',\n",
       "   'link': 'https://defence.pk/pdf/threads/severe-smog-chokes-lahore.642160/',\n",
       "   'language': 'en',\n",
       "   'media': None,\n",
       "   'title': 'Severe smog chokes Lahore',\n",
       "   'media_content': None,\n",
       "   'clean_url': 'defence.pk',\n",
       "   'rights': 'defence.pk',\n",
       "   'rank': '39513',\n",
       "   'topic': 'politics',\n",
       "   'published_date': '2020-11-12 10:23:26',\n",
       "   '_id': 'ea1c643a072a9f1b64fd3acc6c202142'},\n",
       "  {'summary': 'This is a list of AAIB Record-only UAS investigations that were reviewed during August and September 2020.',\n",
       "   'country': 'NA',\n",
       "   'author': None,\n",
       "   'link': 'https://www.gov.uk/government/publications/aaib-record-only-uas-investigations-reviewed-august-september-2020',\n",
       "   'language': 'en',\n",
       "   'media': None,\n",
       "   'title': 'AAIB Record-only UAS investigations reviewed: August - September 2020',\n",
       "   'media_content': None,\n",
       "   'clean_url': 'gov.uk',\n",
       "   'rights': 'gov.uk',\n",
       "   'rank': '20545',\n",
       "   'topic': 'politics',\n",
       "   'published_date': '2020-11-12 10:18:57',\n",
       "   '_id': 'acad1d151df7c7fa704256690cdf61f1'}],\n",
       " 'user_input': {'lang': 'en',\n",
       "  'country': None,\n",
       "  'topic': 'politics',\n",
       "  'media': 'True'}}"
      ]
     },
     "execution_count": 45,
     "metadata": {},
     "output_type": "execute_result"
    }
   ],
   "source": [
    "json_object"
   ]
  }
 ],
 "metadata": {
  "kernelspec": {
   "display_name": "Python 3",
   "language": "python",
   "name": "python3"
  },
  "language_info": {
   "codemirror_mode": {
    "name": "ipython",
    "version": 3
   },
   "file_extension": ".py",
   "mimetype": "text/x-python",
   "name": "python",
   "nbconvert_exporter": "python",
   "pygments_lexer": "ipython3",
   "version": "3.8.6"
  }
 },
 "nbformat": 4,
 "nbformat_minor": 4
}
