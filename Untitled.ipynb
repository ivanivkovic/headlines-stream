{
 "cells": [
  {
   "cell_type": "code",
   "execution_count": 60,
   "metadata": {
    "scrolled": true
   },
   "outputs": [
    {
     "data": {
      "text/plain": [
       "429"
      ]
     },
     "execution_count": 60,
     "metadata": {},
     "output_type": "execute_result"
    }
   ],
   "source": [
    "import requests, json\n",
    "\n",
    "url = \"https://newscatcher.p.rapidapi.com/v1/latest_headlines\"\n",
    "\n",
    "querystring = {\"topic\":\"politics\", \"lang\":\"en\", \"media\":\"True\"}\n",
    "\n",
    "headers = {\n",
    "    'x-rapidapi-key': \"afb0cf49e0msh5077ac3e541e972p14b5bfjsn529b4f19074c\",\n",
    "    'x-rapidapi-host': \"newscatcher.p.rapidapi.com\"\n",
    "}\n",
    "\n",
    "response = requests.request(\"GET\", url, headers=headers, params=querystring)\n",
    "\n",
    "\n",
    "json_object = json.loads(response.text)\n",
    "response.status_code"
   ]
  },
  {
   "cell_type": "code",
   "execution_count": 48,
   "metadata": {},
   "outputs": [
    {
     "data": {
      "text/plain": [
       "{'status': 'ok',\n",
       " 'articles': [{'summary': 'Dear P: Thank you for \\'deciding\\' to make a \\'decision\\' about my \\'decision\\' ideas – and I have \\'decided\" to help you. By now, anyone reading this article will have \\'decided\\' to check out. Seriously, good decisions must make sense to the people concerned. They must also provide a substantial payoff – either building something good or avoiding something bad. Ideally, they should be popular with those affected And good decisions must be implementable and not just \\'pie in the sky\\' wish lists. Simply, any decisions that fall short of these factors may die a quick death.',\n",
       "   'country': 'US',\n",
       "   'author': 'Dave Conrad | Nov 12th 2020 - 6am.',\n",
       "   'link': 'https://www.postbulletin.com/business/small-business/6755926-Make-team-decisions-the-right-way',\n",
       "   'language': 'en',\n",
       "   'media': 'https://www.postbulletin.com/incoming/5046817-3m94q1-Ask-Dave-Dave-Conrad-column-mug/alternates/BASE_LANDSCAPE/Ask%20Dave%20-%20Dave%20Conrad%20column%20mug',\n",
       "   'title': 'Make team decisions the right way',\n",
       "   'media_content': None,\n",
       "   'clean_url': 'postbulletin.com',\n",
       "   'rights': 'postbulletin.com',\n",
       "   'rank': '13306',\n",
       "   'topic': 'politics',\n",
       "   'published_date': '2020-11-12 12:42:26',\n",
       "   '_id': '4f71582af3e5bdfa2c70637ebfaf20d5'},\n",
       "  {'summary': 'China, Saudi, Turkey want to construct international standard hospitals in Bangladesh Arifur Rahman Dhaka Updated: 12 November 2020, 18:09 [IMG alt=\"China, Saudi, Turkey want to construct international standard hospitals in... China, Saudi, Turkey want to construct international standard hospitals in Bangladesh',\n",
       "   'country': 'PK',\n",
       "   'author': 'Black_cats',\n",
       "   'link': 'https://defence.pk/pdf/threads/china-saudi-turkey-want-to-construct-international-standard-hospitals-in-bangladesh.691097/',\n",
       "   'language': 'en',\n",
       "   'media': None,\n",
       "   'title': 'China, Saudi, Turkey want to construct international standard hospitals in Bangladesh',\n",
       "   'media_content': None,\n",
       "   'clean_url': 'defence.pk',\n",
       "   'rights': 'defence.pk',\n",
       "   'rank': '39513',\n",
       "   'topic': 'politics',\n",
       "   'published_date': '2020-11-12 12:31:47',\n",
       "   '_id': 'd7921d26fc1ef6afb0f5bc100091e3cd'},\n",
       "  {'summary': \"Also: true scale of the Irish Protocol's impact on commerce, and Stormont's 'rank incompetence', show how Ulster unionism needs a refresh.\",\n",
       "   'country': 'NA',\n",
       "   'author': 'Henry Hill',\n",
       "   'link': 'https://www.conservativehome.com/thecolumnists/2020/11/henry-hill-sturgeons-timeline-on-salmond-scandal-called-into-question-as-msps-demand-evidence.html',\n",
       "   'language': 'en',\n",
       "   'media': None,\n",
       "   'title': \"Henry Hill: Sturgeon's timeline on Salmond scandal called into question as MSPs demand evidence\",\n",
       "   'media_content': None,\n",
       "   'clean_url': 'conservativehome.com',\n",
       "   'rights': 'conservativehome.com',\n",
       "   'rank': '32305',\n",
       "   'topic': 'politics',\n",
       "   'published_date': '2020-11-12 12:30:48',\n",
       "   '_id': '340c98a3d4ccc408f483acdd025d2b33'},\n",
       "  {'summary': \"The CMA has agreed to ‘fast track' the anticipated merger of Crowdcube and Seedrs to an in-depth Phase 2 investigation, after finding likely competition concerns.\",\n",
       "   'country': 'NA',\n",
       "   'author': None,\n",
       "   'link': 'https://www.gov.uk/government/news/crowdcube-seedrs-deal-fast-tracked-to-in-depth-cma-investigation',\n",
       "   'language': 'en',\n",
       "   'media': None,\n",
       "   'title': 'Crowdcube/Seedrs deal fast tracked to in-depth CMA investigation',\n",
       "   'media_content': None,\n",
       "   'clean_url': 'gov.uk',\n",
       "   'rights': 'gov.uk',\n",
       "   'rank': '20545',\n",
       "   'topic': 'politics',\n",
       "   'published_date': '2020-11-12 12:30:17',\n",
       "   '_id': 'a69067dc8811899a9528b3ac9770caba'},\n",
       "  {'summary': \"Find all of the most important pandemic education news on Educating N.J. , a special resource guide created for parents, students and educators. New COVID-19 cases are soaring in New Jersey. Holiday gatherings are right around the corner. And Tony Trongone has an eerie feeling. 'I think we are living in an Alfred Hitchcock movie,' the superintendent of Millville Public Schools said Wednesday. 'The suspense is there. But it's the unknown. The anxiety of the unknown.' School leaders who reopened their buildings this fall say they don't know how much longer their doors will remain open as the pandemic's second wave hits the state.\",\n",
       "   'country': 'US',\n",
       "   'author': 'Adam Clark | aclark@njadvancemedia.com',\n",
       "   'link': 'https://www.nj.com/education/2020/11/who-will-decide-to-close-nj-schools-again-it-might-not-be-the-governor.html',\n",
       "   'language': 'en',\n",
       "   'media': 'https://www.nj.com/resizer/7BrNBo772-Fu920zU5HTBeqtPbM=/1280x0/smart/cloudfront-us-east-1.images.arcpublishing.com/advancelocal/HEEMPWUZERH2ZDWSO5HHICN4MU.jpg',\n",
       "   'title': 'Who will decide to close N.J. schools again? It might not be the governor.',\n",
       "   'media_content': None,\n",
       "   'clean_url': 'nj.com',\n",
       "   'rights': 'nj.com',\n",
       "   'rank': '1095',\n",
       "   'topic': 'politics',\n",
       "   'published_date': '2020-11-12 12:30:00',\n",
       "   '_id': '23d7f46bf32e3f92c08bbe778f5f7ca8'}],\n",
       " 'user_input': {'lang': 'en',\n",
       "  'country': None,\n",
       "  'topic': 'politics',\n",
       "  'media': 'True'}}"
      ]
     },
     "execution_count": 48,
     "metadata": {},
     "output_type": "execute_result"
    }
   ],
   "source": [
    "\n",
    "\n",
    "json_object = json.loads(response.text)\n",
    "\n",
    "#json_object_bk = json.loads(response.text)\n",
    "\n",
    "json_object"
   ]
  },
  {
   "cell_type": "code",
   "execution_count": 49,
   "metadata": {},
   "outputs": [
    {
     "name": "stdout",
     "output_type": "stream",
     "text": [
      "2020-11-12 12:42:26 postbulletin.com: Make team decisions the right way\n",
      "2020-11-12 12:31:47 defence.pk: China, Saudi, Turkey want to construct international standard hospitals in Bangladesh\n",
      "2020-11-12 12:30:48 conservativehome.com: Henry Hill: Sturgeon's timeline on Salmond scandal called into question as MSPs demand evidence\n",
      "2020-11-12 12:30:17 gov.uk: Crowdcube/Seedrs deal fast tracked to in-depth CMA investigation\n",
      "2020-11-12 12:30:00 nj.com: Who will decide to close N.J. schools again? It might not be the governor.\n"
     ]
    }
   ],
   "source": [
    "for article in json_object['articles']:\n",
    "    \n",
    "    print(article['published_date'] + ' ' + article['clean_url'] + ': ' + article['title'])"
   ]
  },
  {
   "cell_type": "code",
   "execution_count": 45,
   "metadata": {},
   "outputs": [
    {
     "data": {
      "text/plain": [
       "{'status': 'ok',\n",
       " 'articles': [{'summary': \"The Mega city, Lahore is covered in thick Smog & Air Pollution - Drastic Measures Required. Air Purification measures required, Pollution gets on government's nerve and people are getting agitated, causing severe lung problems could result in deaths. It's like Lahore is turned into a gas chamber, a toxic cloud... Lahore Covered In Thick Smog & Air Pollution - Measures Required\",\n",
       "   'country': 'PK',\n",
       "   'author': 'AsianLion',\n",
       "   'link': 'https://defence.pk/pdf/threads/lahore-covered-in-thick-smog-air-pollution-measures-required.459069/',\n",
       "   'language': 'en',\n",
       "   'media': None,\n",
       "   'title': 'Lahore Covered In Thick Smog & Air Pollution - Measures Required',\n",
       "   'media_content': None,\n",
       "   'clean_url': 'defence.pk',\n",
       "   'rights': 'defence.pk',\n",
       "   'rank': '39513',\n",
       "   'topic': 'politics',\n",
       "   'published_date': '2020-11-12 10:30:57',\n",
       "   '_id': '4dc71750d4fc94d7f44dc72343f0cc33'},\n",
       "  {'summary': \"Lahore is choking under the blanket of thick smog. Here's how you can stay safe Let's all pray for rain and for everyone to stay safe! November 03, 2016, 1:09 pm Winter's here... Lahore is choking under the blanket of thick smog. Here's how you can stay safe\",\n",
       "   'country': 'PK',\n",
       "   'author': 'Zibago',\n",
       "   'link': 'https://defence.pk/pdf/threads/lahore-is-choking-under-the-blanket-of-thick-smog-heres-how-you-can-stay-safe.459268/',\n",
       "   'language': 'en',\n",
       "   'media': None,\n",
       "   'title': \"Lahore is choking under the blanket of thick smog. Here's how you can stay safe\",\n",
       "   'media_content': None,\n",
       "   'clean_url': 'defence.pk',\n",
       "   'rights': 'defence.pk',\n",
       "   'rank': '39513',\n",
       "   'topic': 'politics',\n",
       "   'published_date': '2020-11-12 10:26:23',\n",
       "   '_id': 'f35990bb8901ecdf20aed5a6759a26e3'},\n",
       "  {'summary': \"http://www.riazhaq.com/2017/11/thick-smog-in-delhi-and-lahore-is-india.html Thick smog enveloping Pakistan's Punjab province has seriously disrupted road and air traffic and created significant health emergency for the people, according to... Thick Smog in Delhi and Lahore: Is India Crop Burning to Blame?\",\n",
       "   'country': 'PK',\n",
       "   'author': 'RiazHaq',\n",
       "   'link': 'https://defence.pk/pdf/threads/thick-smog-in-delhi-and-lahore-is-india-crop-burning-to-blame.527714/',\n",
       "   'language': 'en',\n",
       "   'media': None,\n",
       "   'title': 'Thick Smog in Delhi and Lahore: Is India Crop Burning to Blame?',\n",
       "   'media_content': None,\n",
       "   'clean_url': 'defence.pk',\n",
       "   'rights': 'defence.pk',\n",
       "   'rank': '39513',\n",
       "   'topic': 'politics',\n",
       "   'published_date': '2020-11-12 10:25:33',\n",
       "   '_id': 'b6e3f79482db18d46423864152fce435'},\n",
       "  {'summary': 'LAHORE (Dunya News) – Smog has once again severely hit the provincial capital, Lahore, with Air Quality Index reaching 455, while threshold for hazardous level of air quality is 300. According to AQI, Lahore has recorded an Air Quality Index of 455. Punjab Assembly at 731, Upper Mall at 647, Defence (DHA) at 401... Severe smog chokes Lahore',\n",
       "   'country': 'PK',\n",
       "   'author': 'ASKardar',\n",
       "   'link': 'https://defence.pk/pdf/threads/severe-smog-chokes-lahore.642160/',\n",
       "   'language': 'en',\n",
       "   'media': None,\n",
       "   'title': 'Severe smog chokes Lahore',\n",
       "   'media_content': None,\n",
       "   'clean_url': 'defence.pk',\n",
       "   'rights': 'defence.pk',\n",
       "   'rank': '39513',\n",
       "   'topic': 'politics',\n",
       "   'published_date': '2020-11-12 10:23:26',\n",
       "   '_id': 'ea1c643a072a9f1b64fd3acc6c202142'},\n",
       "  {'summary': 'This is a list of AAIB Record-only UAS investigations that were reviewed during August and September 2020.',\n",
       "   'country': 'NA',\n",
       "   'author': None,\n",
       "   'link': 'https://www.gov.uk/government/publications/aaib-record-only-uas-investigations-reviewed-august-september-2020',\n",
       "   'language': 'en',\n",
       "   'media': None,\n",
       "   'title': 'AAIB Record-only UAS investigations reviewed: August - September 2020',\n",
       "   'media_content': None,\n",
       "   'clean_url': 'gov.uk',\n",
       "   'rights': 'gov.uk',\n",
       "   'rank': '20545',\n",
       "   'topic': 'politics',\n",
       "   'published_date': '2020-11-12 10:18:57',\n",
       "   '_id': 'acad1d151df7c7fa704256690cdf61f1'}],\n",
       " 'user_input': {'lang': 'en',\n",
       "  'country': None,\n",
       "  'topic': 'politics',\n",
       "  'media': 'True'}}"
      ]
     },
     "execution_count": 45,
     "metadata": {},
     "output_type": "execute_result"
    }
   ],
   "source": [
    "json_object"
   ]
  }
 ],
 "metadata": {
  "kernelspec": {
   "display_name": "Python 3",
   "language": "python",
   "name": "python3"
  },
  "language_info": {
   "codemirror_mode": {
    "name": "ipython",
    "version": 3
   },
   "file_extension": ".py",
   "mimetype": "text/x-python",
   "name": "python",
   "nbconvert_exporter": "python",
   "pygments_lexer": "ipython3",
   "version": "3.8.6"
  }
 },
 "nbformat": 4,
 "nbformat_minor": 4
}
